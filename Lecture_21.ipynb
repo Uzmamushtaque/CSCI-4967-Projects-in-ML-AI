{
  "nbformat": 4,
  "nbformat_minor": 0,
  "metadata": {
    "colab": {
      "provenance": [],
      "authorship_tag": "ABX9TyMyXQ1p766ndp+ESeuoOhgk",
      "include_colab_link": true
    },
    "kernelspec": {
      "name": "python3",
      "display_name": "Python 3"
    },
    "language_info": {
      "name": "python"
    }
  },
  "cells": [
    {
      "cell_type": "markdown",
      "metadata": {
        "id": "view-in-github",
        "colab_type": "text"
      },
      "source": [
        "<a href=\"https://colab.research.google.com/github/Uzmamushtaque/CSCI-4967-Projects-in-ML-AI/blob/main/Lecture_21.ipynb\" target=\"_parent\"><img src=\"https://colab.research.google.com/assets/colab-badge.svg\" alt=\"Open In Colab\"/></a>"
      ]
    },
    {
      "cell_type": "markdown",
      "source": [
        "## Lecture 21\n",
        "\n",
        "### Topics for Today\n",
        "\n",
        "1. Introduction to Time Series Analysis\n",
        "2. Forecasting with Statistical Models\n",
        "3. Time series forecasting with Deep Learning (Already Covered)\n",
        "4. Forecasting at Scale: Prophet Model"
      ],
      "metadata": {
        "id": "Hzig-naKD-Zd"
      }
    },
    {
      "cell_type": "markdown",
      "source": [
        "## Introduction\n",
        "\n",
        "A time series is a set of data points ordered in time.\n",
        "The data is equally spaced in time, meaning that it was recorded at every hour, minute,\n",
        "month, or quarter. Typical examples of time series include the closing value of a\n",
        "stock, a household’s electricity consumption, or the temperature outside.\n",
        "\n",
        "Components of a time series:\n",
        "\n",
        "1. Trend: The slow moving changes in a time series is called trend. it is responsible for making the series gradually increase or decrease over time.\n",
        "\n",
        "2. Seasonality: The seasonality component represents the seasonal pattern in the series. The cycles\n",
        "occur repeatedly over a fixed period of time.\n",
        "\n",
        "3. Residuals: This corresponds to random errors, also termed white noise.\n",
        "\n",
        "## Important concepts\n",
        "\n",
        "**Stationarity:** A stationary time series is one whose statistical properties do not change over time. In\n",
        "other words, it has a constant mean, variance, and autocorrelation, and these properties\n",
        "are independent of time.\n",
        "Many forecasting models assume stationarity.\n",
        "\n",
        "**Transformation:** A transformation is a mathematical operation applied to a time series in order to\n",
        "make it stationary.\n",
        "Differencing is a transformation that calculates the change from one timestep to\n",
        "another. This transformation is useful for stabilizing the mean.\n",
        "Applying a log function to the series can stabilize its variance.\n",
        "\n",
        "**Test for stationarity:** The augmented Dickey-Fuller (ADF) test helps us determine if a time series is stationary\n",
        "by testing for the presence of a unit root. If a unit root is present, the time series\n",
        "is not stationary.\n",
        "\n",
        "**Autocorrelation function:**  The autocorrelation function (ACF) measures the linear relationship between lagged\n",
        "values of a time series.\n",
        "In other words, it measures the correlation of the time series with itself.\n",
        "\n",
        "**Partial Autocorrelation Function:** Partial autocorrelation measures the correlation between lagged values in a time\n",
        "series when we remove the influence of correlated lagged values in between. We can\n",
        "plot the partial autocorrelation function to determine the order of a stationary AR(p)\n",
        "process. The coefficients will be non-significant after lag p.\n",
        "\n",
        "**Akaike Information Criteria (AIC):** The Akaike Information Criterion (AIC) lets you test how well your model fits the data set without over-fitting it.\n",
        "\n",
        "The AIC score rewards models that achieve a high goodness-of-fit score and penalizes them if they become overly complex.\n",
        "\n",
        "By itself, the AIC score is not of much use unless it is compared with the AIC score of a competing model.\n",
        "\n",
        "The model with the lower AIC score is expected to strike a superior balance between its ability to fit the data set and its ability to avoid over-fitting the data set."
      ],
      "metadata": {
        "id": "yrbE6ykdEdG2"
      }
    },
    {
      "cell_type": "markdown",
      "source": [
        "## Forecasting with statistical models\n",
        "\n",
        "### Moving average process\n",
        "\n",
        "In a moving average (MA) process, the current value depends linearly on the mean of\n",
        "the series, the current error term, and past error terms.\n",
        "The moving average model is denoted as MA(q), where q is the order.\n",
        "\n",
        "Order of the process can be determined using ACF and look for significant autocorrelation coefficients.\n",
        "In the case of a random walk, we will not see significant coefficients after lag 0.\n",
        "On the other hand, if we see significant coefficients, we must check whether they\n",
        "become abruptly non-significant after some lag q. If that is the case, then we know that\n",
        "we have a moving average process of order q.\n"
      ],
      "metadata": {
        "id": "0pN-dm_8GAaP"
      }
    },
    {
      "cell_type": "markdown",
      "source": [
        "### Auto Regressive process (AR)\n",
        "\n",
        "An autoregressive process is a regression of a variable against itself. In a time\n",
        "series, this means that the present value is linearly dependent on its past values.\n",
        "The autoregressive process is denoted as AR(p), where p is the order. Using PACF this order can be determined."
      ],
      "metadata": {
        "id": "lPFYB-clEjQY"
      }
    },
    {
      "cell_type": "markdown",
      "source": [
        "## Auto Regressive Moving Average process (ARMA)\n",
        "\n",
        "The autoregressive moving average process is a combination of the autoregressive\n",
        "process and the moving average process.\n",
        "It is denoted as ARMA(p,q), where p is the order of the autoregressive process, and\n",
        "q is the order of the moving average process.\n",
        "Using both ACF and PACF, the order of the process can be determined.\n",
        "If your process is stationary and both the ACF and PACF plots show a decaying or sinusoidal\n",
        "pattern, then it is a stationary ARMA(p,q) process."
      ],
      "metadata": {
        "id": "b7b6t_7qPiNe"
      }
    },
    {
      "cell_type": "markdown",
      "source": [
        "## Auto Regressive Integrated Moving Average (ARIMA)\n",
        "\n",
        "An autoregressive integrated moving average (ARIMA) process is the combination of\n",
        "the AR(p) and MA(q) processes, but in terms of the differenced series.\n",
        "It is denoted as ARIMA(p,d,q), where p is the order of the AR(p) process, d is the order\n",
        "of integration, and q is the order of the MA(q) process.\n",
        "Integration is the reverse of differencing, and the order of integration d is equal to the\n",
        "number of times the series has been differenced to be rendered stationary.\n",
        "A time series that can be rendered stationary by applying differencing is said to be an\n",
        "integrated series.\n"
      ],
      "metadata": {
        "id": "Cu2BSny6RkXQ"
      }
    },
    {
      "cell_type": "markdown",
      "source": [
        "[Implementation](https://github.com/marcopeix/TimeSeriesForecastingInPython/blob/master/CH07/CH07.ipynb)"
      ],
      "metadata": {
        "id": "8e3XLFLZSAt_"
      }
    },
    {
      "cell_type": "markdown",
      "source": [
        "There are other variants of ARIMA model like SARIMA, SARIMAX etc.\n",
        "Read more about these here: [Link](https://machinelearningmastery.com/sarima-for-time-series-forecasting-in-python/)"
      ],
      "metadata": {
        "id": "eGJgzZYCT240"
      }
    },
    {
      "cell_type": "markdown",
      "source": [
        "Deep learning models(RNN, LSTM, GRU etc.) are used when we have large complex datasets. In those situations, deep\n",
        "learning can leverage all the available data to infer relationships between each feature\n",
        "and the target, usually resulting in good forecasts.\n",
        "\n",
        "These have been covered in previous lectures."
      ],
      "metadata": {
        "id": "pyHuWfwgUwQo"
      }
    },
    {
      "cell_type": "markdown",
      "source": [
        "## Automated Forecasting Libraries\n",
        "\n",
        "The data science community and companies have developed many libraries to automate\n",
        "the forecasting process and make it easier. Some of the most popular libraries\n",
        "and their websites are listed here:\n",
        "\n",
        "1. Pmdarima—http://alkaline-ml.com/pmdarima/modules/classes.html\n",
        "\n",
        "2. Prophet—https://facebook.github.io/prophet\n",
        "\n",
        "3. NeuralProphet—https://neuralprophet.com/html/index.html\n",
        "\n",
        "4. PyTorch Forecasting—https://pytorch-forecasting.readthedocs.io/en/stable"
      ],
      "metadata": {
        "id": "DtzcZp18VE_a"
      }
    },
    {
      "cell_type": "markdown",
      "source": [
        "Prophet is an open source package from Meta Open Source, meaning that it is built\n",
        "and maintained by Meta. This library was built specifically for business forecasting at\n",
        "scale. It arose from the internal need at Facebook to produce accurate forecasts quickly,\n",
        "and the library was then made freely available. Prophet is arguably the best-known forecasting\n",
        "library in the industry, as it can fit nonlinear trends and combine the effect of\n",
        "multiple seasonalities.\n",
        "\n",
        "NeuralProphet builds on the Prophet library to automate the use of hybrid models\n",
        "for time series forecasting."
      ],
      "metadata": {
        "id": "GwTpLjc7VjgL"
      }
    },
    {
      "cell_type": "markdown",
      "source": [
        "[Paper 1](https://arxiv.org/pdf/2111.15397.pdf)"
      ],
      "metadata": {
        "id": "YpcpUrNFVkqL"
      }
    },
    {
      "cell_type": "markdown",
      "source": [
        "## Exploring Prophet\n",
        "\n",
        "Under the hood, Prophet implements a general additive model where each time\n",
        "series y(t) is modeled as the linear combination of a trend g(t), a seasonal component\n",
        "s(t), holiday effects h(t), and an error term ϵt, which is normally distributed.\n",
        "\n",
        "The trend component models the non-periodic long-term changes in the time series.\n",
        "The seasonal component models the periodic change, whether it is yearly, monthly,weekly, or daily. The holiday effect occurs irregularly and potentially on more than\n",
        "one day. Finally, the error term represents any change in value that cannot be\n",
        "explained by the previous three components.\n",
        "\n",
        "Notice that this model does not take into account the time dependence of the\n",
        "data, unlike the ARIMA(p,d,q) model, where future values are dependent on past values.\n",
        "Thus, this process is closer to fitting a curve to the data, rather than finding the\n",
        "underlying process. Although there is some loss of predictive information using this\n",
        "method, it comes with the advantage that it is very flexible, since it can accommodate\n",
        "multiple seasonal periods and changing trends. Also, it is robust to outliers and missing\n",
        "data, which is a clear advantage in a business context.\n",
        "The inclusion of multiple seasonal periods was motivated by the observation that\n",
        "human behavior produced multi-period seasonal time series. For example, the fiveday\n",
        "work week can produce a pattern that repeats every week, while school break can\n",
        "produce a pattern that repeats every year. Thus, to take multiple seasonal periods into\n",
        "account, Prophet uses the Fourier series to model multiple periodic effects.\n",
        "\n",
        "Finally, this model allows us to consider the effect of holidays. Holidays are irregular\n",
        "events that can have a clear impact on a time series. For example, events such as\n",
        "Black Friday in the United States can dramatically increase the attendance in stores or\n",
        "the sales on an ecommerce website.\n",
        "\n",
        "[Paper 2](https://peerj.com/preprints/3190/)"
      ],
      "metadata": {
        "id": "SVMYy_lpV33G"
      }
    },
    {
      "cell_type": "markdown",
      "source": [
        "[Implementation](https://github.com/marcopeix/TimeSeriesForecastingInPython/blob/master/CH19/CH19.ipynb)"
      ],
      "metadata": {
        "id": "0lcDRTwWXn4o"
      }
    },
    {
      "cell_type": "markdown",
      "source": [
        "### Transformers in Time Series Analysis\n",
        "\n",
        "This is arelatively novel research area because transformers in general are not found to be effective in time series forecasting problems.\n",
        "\n",
        "[Link](https://medium.com/intel-tech/how-to-apply-transformers-to-time-series-models-spacetimeformer-e452f2825d2e)\n",
        "\n",
        "[Paper 3](https://arxiv.org/pdf/2202.07125.pdf)"
      ],
      "metadata": {
        "id": "a2vKvQCVXqgP"
      }
    },
    {
      "cell_type": "markdown",
      "source": [
        "### Reference for the lecture\n",
        " Time series forecasting in Python by Marco Peixeiro\n"
      ],
      "metadata": {
        "id": "_PM4FTTKWzQ1"
      }
    }
  ]
}