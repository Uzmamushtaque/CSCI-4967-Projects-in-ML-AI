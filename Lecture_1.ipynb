{
  "nbformat": 4,
  "nbformat_minor": 0,
  "metadata": {
    "colab": {
      "provenance": [],
      "authorship_tag": "ABX9TyMKDmrV2of0OMEmjZfh9Wwu",
      "include_colab_link": true
    },
    "kernelspec": {
      "name": "python3",
      "display_name": "Python 3"
    },
    "language_info": {
      "name": "python"
    }
  },
  "cells": [
    {
      "cell_type": "markdown",
      "metadata": {
        "id": "view-in-github",
        "colab_type": "text"
      },
      "source": [
        "<a href=\"https://colab.research.google.com/github/Uzmamushtaque/CSCI-4967-Projects-in-ML-AI/blob/main/Lecture_1.ipynb\" target=\"_parent\"><img src=\"https://colab.research.google.com/assets/colab-badge.svg\" alt=\"Open In Colab\"/></a>"
      ]
    },
    {
      "cell_type": "markdown",
      "source": [
        "# Projects in ML and AI\n",
        "\n",
        "This course focuses on the fundamentals of Machine Learning and Deep Learning Algorithms specifically when used as problem solving tools. Through the course, students will solve a wide range of problems involving various data types."
      ],
      "metadata": {
        "id": "VDkGLwg2P94-"
      }
    },
    {
      "cell_type": "markdown",
      "source": [
        "## About the Course\n",
        "\n",
        "1. Syllabus\n",
        "2. Learning outcomes\n",
        "3. Grading\n",
        "4. Emphasis on Practical Applications\n",
        "5. Reading Papers (Discussion Forum)\n",
        "6. Final Project/Paper\n",
        "\n",
        "Pre-requisites (Algorithms, Linear Algebra, Probability theory)\n",
        "Sources for the entire Material:\n",
        "\n",
        "*Neural Networks and Deep Learning (Charu C Aggarwal)*\n",
        "\n",
        "*Dive Into Deep Learning (Online Edition)*"
      ],
      "metadata": {
        "id": "mRZtnJyFUN3V"
      }
    },
    {
      "cell_type": "markdown",
      "source": [
        "## Course Logistics\n",
        "\n",
        "Office hours(WebEx): Tuesday 12pm - 1pm (AE 111) or by appointment (email to: mushtu@rpi.edu).\n",
        "\n",
        "WebEx Link: https://rensselaer.webex.com/meet/mushtu\n",
        "\n",
        "Homeworks/Projects will be due on Fridays.\n",
        "\n",
        "Discussion Forum: A new question/discussion will be posted(every week) on the Submitty Discussion forum. Participation in the discussion counts towards the particiaption grade."
      ],
      "metadata": {
        "id": "6d7KhzffU7OS"
      }
    },
    {
      "cell_type": "markdown",
      "source": [
        "# What is Machine Learning?\n",
        "\n",
        "1.   A machine learning algorithm is the process that uncovers the underlying relationship within the data.\n",
        "\n",
        "2.   The outcome of a machine learning algorithm is called machine learning model, which can be considered as a function , which outputs certain results, when given the input.\n",
        "\n",
        "3.    Rather than a predefined and fixed function, a machine learning model is derived from historical data. Therefore, when fed with different data, the output of machine learning algorithm changes, i.e. the machine learning model changes.\n",
        "\n",
        "\n"
      ],
      "metadata": {
        "id": "-2CcNvIW3rd2"
      }
    },
    {
      "cell_type": "markdown",
      "source": [
        "## Categorizing ML Models\n",
        "\n",
        "### Types of Learning\n",
        "•\tSupervised: Regression, Classification\n",
        "\n",
        "•\tUnsupervised\n",
        "\n",
        "•\tReinforcement Learning\n",
        "\n",
        "### Types of Models\n",
        "\n",
        "•\tDiscriminative\n",
        "\n",
        "•\tGenerative"
      ],
      "metadata": {
        "id": "q_5lV8xF90uY"
      }
    },
    {
      "cell_type": "markdown",
      "source": [
        "## Artificial Intelligence\n",
        "\n",
        "[AI in everything](https://drive.google.com/file/d/1TpQXNJ0Qv8yt50Yzt8PoVQUVm9-WcjFn/view?usp=sharing)\n",
        "\n",
        "[Article to Read](https://www.geospatialworld.net/blogs/difference-between-ai%EF%BB%BF-machine-learning-and-deep-learning/)"
      ],
      "metadata": {
        "id": "AqLWltVp-LTn"
      }
    },
    {
      "cell_type": "markdown",
      "source": [
        "# Today's Lecture\n",
        "\n",
        "1. Resources\n",
        "2. Grouping of ML Algorithms\n",
        "3. Linear Model\n",
        "4. Regression\n",
        "5. Classification\n",
        "6. Gradient Descent\n"
      ],
      "metadata": {
        "id": "klI7Dre9-UTO"
      }
    },
    {
      "cell_type": "markdown",
      "source": [],
      "metadata": {
        "id": "Sz-7jj7F-aZs"
      }
    }
  ]
}