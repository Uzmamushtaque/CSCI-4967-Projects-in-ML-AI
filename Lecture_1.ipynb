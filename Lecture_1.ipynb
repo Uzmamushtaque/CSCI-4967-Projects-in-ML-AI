{
  "nbformat": 4,
  "nbformat_minor": 0,
  "metadata": {
    "colab": {
      "provenance": [],
      "authorship_tag": "ABX9TyOsMqSsq6o5D5aP2Z4OimRZ",
      "include_colab_link": true
    },
    "kernelspec": {
      "name": "python3",
      "display_name": "Python 3"
    },
    "language_info": {
      "name": "python"
    }
  },
  "cells": [
    {
      "cell_type": "markdown",
      "metadata": {
        "id": "view-in-github",
        "colab_type": "text"
      },
      "source": [
        "<a href=\"https://colab.research.google.com/github/Uzmamushtaque/CSCI-4967-Projects-in-ML-AI/blob/main/Lecture_1.ipynb\" target=\"_parent\"><img src=\"https://colab.research.google.com/assets/colab-badge.svg\" alt=\"Open In Colab\"/></a>"
      ]
    },
    {
      "cell_type": "markdown",
      "source": [
        "# Projects in ML and AI\n",
        "\n",
        "This course focuses on the fundamentals of Machine Learning and Deep Learning Algorithms specifically when used as problem solving tools. Through the course, students will solve a wide range of problems involving various data types."
      ],
      "metadata": {
        "id": "VDkGLwg2P94-"
      }
    },
    {
      "cell_type": "markdown",
      "source": [
        "## About the Course\n",
        "\n",
        "1. Syllabus\n",
        "2. Learning outcomes\n",
        "3. Grading\n",
        "4. Emphasis on Practical Applications\n",
        "5. Reading Papers (Discussion Forum)\n",
        "6. Final Project/Paper\n",
        "\n",
        "Pre-requisites (Algorithms, Linear Algebra, Probability theory)\n",
        "Sources for the entire Material:\n",
        "\n",
        "*Neural Networks and Deep Learning (Charu C Aggarwal)*\n",
        "\n",
        "*Dive Into Deep Learning (Online Edition)*"
      ],
      "metadata": {
        "id": "mRZtnJyFUN3V"
      }
    },
    {
      "cell_type": "markdown",
      "source": [
        "## Course Logistics\n",
        "\n",
        "Office hours: Tuesday 12pm - 1pm (AE 111) or by appointment (email to: mushtu@rpi.edu).\n",
        "\n",
        "WebEx Link: https://rensselaer.webex.com/meet/mushtu\n",
        "\n",
        "Homeworks/Projects will be due on Fridays.\n",
        "\n",
        "Discussion Forum: A new question/discussion will be posted(every week) on the Submitty Discussion forum. Participation in the discussion counts towards the participation grade."
      ],
      "metadata": {
        "id": "6d7KhzffU7OS"
      }
    },
    {
      "cell_type": "markdown",
      "source": [
        "# What is Machine Learning?\n",
        "\n",
        "1.   A machine learning algorithm is the process that uncovers the underlying relationship within the data.\n",
        "\n",
        "2.   The outcome of a machine learning algorithm is called machine learning model, which can be considered as a function , which outputs certain results, when given the input.\n",
        "\n",
        "3.    Rather than a predefined and fixed function, a machine learning model is derived from historical data. Therefore, when fed with different data, the output of machine learning algorithm changes, i.e. the machine learning model changes.\n",
        "\n",
        "\n"
      ],
      "metadata": {
        "id": "-2CcNvIW3rd2"
      }
    },
    {
      "cell_type": "markdown",
      "source": [
        "## Categorizing ML Models\n",
        "\n",
        "### Types of Learning\n",
        "•\tSupervised: Regression, Classification\n",
        "\n",
        "•\tUnsupervised\n",
        "\n",
        "•\tReinforcement Learning\n",
        "\n",
        "### Types of Models\n",
        "\n",
        "•\tDiscriminative\n",
        "\n",
        "•\tGenerative"
      ],
      "metadata": {
        "id": "q_5lV8xF90uY"
      }
    },
    {
      "cell_type": "markdown",
      "source": [
        "## Artificial Intelligence\n",
        "\n",
        "[AI in everything](https://drive.google.com/file/d/1TpQXNJ0Qv8yt50Yzt8PoVQUVm9-WcjFn/view?usp=sharing)\n",
        "\n",
        "[Article to Read](https://cloud.google.com/learn/artificial-intelligence-vs-machine-learning)"
      ],
      "metadata": {
        "id": "AqLWltVp-LTn"
      }
    },
    {
      "cell_type": "markdown",
      "source": [
        "# Today's Lecture\n",
        "\n",
        "1. Resources\n",
        "2. Grouping of ML Algorithms\n",
        "3. Linear Model\n",
        "4. Regression\n",
        "5. Classification\n",
        "6. Gradient Descent\n"
      ],
      "metadata": {
        "id": "klI7Dre9-UTO"
      }
    },
    {
      "cell_type": "markdown",
      "source": [
        "# Resources for your Projects:\n",
        "\n",
        "•\tJupyter Notebooks\n",
        "\n",
        "•\tGoogle Colab: https://colab.research.google.com/\n",
        "\n",
        "•\tGitHub: Publish your Notebooks on your GitHub. You can directly publish Colab Notebooks on GitHub\n",
        "\n",
        "•\tShare the link to your project as your Homework Submission\n",
        "\n",
        "## Data for your projects\n",
        "\n",
        "1. https://www.kaggle.com/\n",
        "2. https://www.data.gov/\n",
        "3. https://archive.ics.uci.edu/ml/datasets.php\n",
        "4. https://datasetsearch.research.google.com/\n",
        "\n",
        "\n"
      ],
      "metadata": {
        "id": "Sz-7jj7F-aZs"
      }
    },
    {
      "cell_type": "markdown",
      "source": [
        "# ML Algorithms’ Grouping\n",
        "\n",
        "*Source for this section: https://machinelearningmastery.com/a-tour-of-machine-learning-algorithms*\n",
        "\n",
        "•\tThe first is a grouping of algorithms by their learning style.\n",
        "\n",
        "•\tThe second is a grouping of algorithms by their similarity in form or function (like grouping similar animals together)."
      ],
      "metadata": {
        "id": "40dZyiiXqY4j"
      }
    },
    {
      "cell_type": "markdown",
      "source": [
        "#**Machine Learning Algorithms Grouped by Style**\n",
        "\n",
        "1. **Supervised Learning Algorithms**\n",
        "\n",
        "  Input data is called training data and has a known label or result such as spam/not-spam or a stock price at a time.\n",
        "\n",
        "  A model is prepared through a training process in which it is required to make predictions and is corrected when those predictions are wrong. The training process continues until the model achieves a desired level of accuracy on the training data.\n",
        "\n",
        "  Example problems are classification and regression.\n",
        "\n",
        "  Example algorithms include: Logistic Regression and the Back Propagation Neural Network."
      ],
      "metadata": {
        "id": "a002Hyq1qkAM"
      }
    },
    {
      "cell_type": "markdown",
      "source": [
        "2. **Unsupervised Learning Algorithms**\n",
        "\n",
        "  Input data is not labeled and does not have a known result.\n",
        "\n",
        "  A model is prepared by deducing structures present in the input data. This may be to extract general rules. It may be through a mathematical process to systematically reduce redundancy, or it may be to organize data by similarity.\n",
        "\n",
        "  Example problems are clustering, dimensionality reduction and association rule learning.\n",
        "\n",
        "  Example algorithms include: DBScan and K-Means."
      ],
      "metadata": {
        "id": "2hN9h3P8qrcu"
      }
    },
    {
      "cell_type": "markdown",
      "source": [
        "3. **Semi-Supervised Learning**\n",
        "\n",
        "  Input data is a mixture of labeled and unlabelled examples.\n",
        "\n",
        "  There is a desired prediction problem but the model must learn the structures to organize the data as well as make predictions.\n",
        "\n",
        "  Example problems are classification and regression.\n",
        "\n",
        "  Example algorithms are extensions to other flexible methods that make assumptions about how to model the unlabeled data."
      ],
      "metadata": {
        "id": "eApZl1-TqypW"
      }
    },
    {
      "cell_type": "markdown",
      "source": [
        "# **Reinforcement Learning**\n",
        "\n",
        "Reinforcement learning is the training of machine learning models to make a sequence of decisions.\n",
        "The agent learns to achieve a goal in an uncertain, potentially complex environment.\n",
        "In reinforcement learning, an artificial intelligence faces a game-like situation. The computer employs trial and error to come up with a solution to the problem.\n",
        "\n",
        "To get the machine to do what the programmer wants, the artificial intelligence gets either rewards or penalties for the actions it performs. Its goal is to maximize the total reward.\n",
        "\n",
        "[Article Link](https://deepsense.ai/what-is-reinforcement-learning-the-complete-guide/)"
      ],
      "metadata": {
        "id": "m9rTRCKiq33p"
      }
    },
    {
      "cell_type": "markdown",
      "source": [
        "#**Machine Learning Algorithms Grouped by Modeling Paradigm**\n",
        "\n",
        "The relationship between data and outcome can be mathematically modelled in two different ways: Discriminative and Generative models.\n",
        "\n",
        "1. Discriminative Models: These models make predictions on unseen data by considering conditional probability. A model of the form P(y|x) is a discriminative classifier since it can be used to discriminate between various classes.\n",
        "\n",
        "2. Generative Models: These models focus on the distribution of the dataset and determine how likely a given sample is. These models capture the joint probability of the form P(y,x) or P(x) if there are no labels.\n",
        "\n",
        "Source: [Link](https://developers.google.com/machine-learning/gan)"
      ],
      "metadata": {
        "id": "YKA8N5Vkq7vq"
      }
    },
    {
      "cell_type": "markdown",
      "source": [
        "### Problem formulation\n",
        "\n",
        "Consider a classification problem where the task at hand is to decide whether an email is a spam or ham. Suppose we have labeled data:\n",
        "\n",
        "Labels: y\n",
        "\n",
        "Features: x = {x1,x2,x3....xn}\n",
        "\n",
        "The goal is to determine probability of spam email i.e. P(y=1|x).\n",
        "We can solve this problem using either the discriminative approach or generative approach.\n",
        "\n",
        "**Discriminative models**: These models will assume some underlying functional form for P(y|x). The parameters of the model are then determined by using training data.\n",
        "\n",
        "**Generative models**: Under these models, the conditional probability P(y|x) is calculated by using the prior P(y) and the likelihood P(x|y) from the training data. Next, Bayes theorem is applied to get the final result.\n",
        "\n",
        "\n",
        "[Further Reading](https://www.analyticsvidhya.com/blog/2021/07/deep-understanding-of-discriminative-and-generative-models-in-machine-learning/#:~:text=In%20simple%20words%2C%20a%20discriminative,probability%20for%20a%20given%20example.)"
      ],
      "metadata": {
        "id": "2T95tVyMA-Qy"
      }
    },
    {
      "cell_type": "markdown",
      "source": [],
      "metadata": {
        "id": "zcDctCtJZET8"
      }
    }
  ]
}